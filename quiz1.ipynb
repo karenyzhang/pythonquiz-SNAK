{
 "cells": [
  {
   "cell_type": "code",
   "execution_count": 1,
   "metadata": {},
   "outputs": [
    {
     "name": "stdout",
     "output_type": "stream",
     "text": [
      "Your age in five years will be 25\n",
      "You've provided 4 cat names.\n",
      "You've provided 4 cat names.\n",
      "Concatenated cat names: MangoBean\n"
     ]
    }
   ],
   "source": [
    "import random\n",
    "\n",
    "# Question 1\n",
    "name = str(input(\"What is your name and surname? \"))\n",
    "\n",
    "# Question 2\n",
    "age = int(input(\"What is your age? \"))\n",
    "\n",
    "# Question 3\n",
    "print(\"Your age in five years will be \" + str(age + 5))\n",
    "\n",
    "# Question  4\n",
    "cats = []\n",
    "while True:\n",
    "    cat_name = str(input(\"Enter one cat name (or nothing to move on): \"))\n",
    "    if cat_name.strip() == \"\":\n",
    "        break\n",
    "    cats.append(cat_name)\n",
    "\n",
    "# Question 5 w/ for loop\n",
    "counter = 0\n",
    "for i in cats:\n",
    "    counter += 1\n",
    "print(f\"You've provided {counter} cat names.\")\n",
    "\n",
    "# Question 5 w/ len()\n",
    "num_cats = len(cats)\n",
    "print(f\"You've provided {num_cats} cat names.\")\n",
    "\n",
    "# Question 6\n",
    "if num_cats >= 2:\n",
    "    cat1 = random.choice(cats)\n",
    "    cat2 = random.choice(cats)\n",
    "    while cat1 == cat2:\n",
    "        cat2 = random.choice(cats)\n",
    "    \n",
    "    concatenated_cats = cat1 + cat2\n",
    "    \n",
    "    print(f\"Concatenated cat names: {concatenated_cats}\")\n",
    "else:\n",
    "    print(\"You need at least two cat names to concatenate.\")"
   ]
  }
 ],
 "metadata": {
  "kernelspec": {
   "display_name": "Python 3",
   "language": "python",
   "name": "python3"
  },
  "language_info": {
   "codemirror_mode": {
    "name": "ipython",
    "version": 3
   },
   "file_extension": ".py",
   "mimetype": "text/x-python",
   "name": "python",
   "nbconvert_exporter": "python",
   "pygments_lexer": "ipython3",
   "version": "3.11.9"
  }
 },
 "nbformat": 4,
 "nbformat_minor": 2
}
